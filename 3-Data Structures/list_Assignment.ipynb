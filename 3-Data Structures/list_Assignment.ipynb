{
 "cells": [
  {
   "cell_type": "markdown",
   "metadata": {},
   "source": [
    "# Module 3: Data Structures Assignments\n",
    "## Lesson 3.1: Lists\n",
    "### Assignment 1: Creating and Accessing Lists\n",
    "\n",
    "Create a list of the first 20 positive integers. Print the list.\n",
    "\n",
    "### Assignment 2: Accessing List Elements\n",
    "\n",
    "Print the first, middle, and last elements of the list created in Assignment 1.\n",
    "\n",
    "### Assignment 3: List Slicing\n",
    "\n",
    "Print the first five elements, the last five elements, and the elements from index 5 to 15 of the list created in Assignment 1.\n",
    "\n",
    "### Assignment 4: List Comprehensions\n",
    "\n",
    "Create a new list containing the squares of the first 10 positive integers using a list comprehension. Print the new list.\n",
    "\n",
    "### Assignment 5: Filtering Lists\n",
    "\n",
    "Create a new list containing only the even numbers from the list created in Assignment 1 using a list comprehension. Print the new list.\n",
    "\n",
    "### Assignment 6: List Methods\n",
    "\n",
    "Create a list of random numbers and sort it in ascending and descending order. Remove the duplicates from the list and print the modified list.\n",
    "\n",
    "### Assignment 7: Nested Lists\n",
    "\n",
    "Create a nested list representing a 3x3 matrix and print the matrix. Access and print the element at the second row and third column.\n",
    "\n",
    "### Assignment 8: List of Dictionaries\n",
    "\n",
    "Create a list of dictionaries where each dictionary represents a student with keys 'name' and 'score'. Sort the list of dictionaries by the 'score' in descending order and print the sorted list.\n",
    "\n",
    "### Assignment 9: Matrix Transposition\n",
    "\n",
    "Write a function that takes a 3x3 matrix (nested list) as input and returns its transpose. Print the original and transposed matrices.\n",
    "\n",
    "### Assignment 10: Flattening a Nested List\n",
    "\n",
    "Write a function that takes a nested list and flattens it into a single list. Print the original and flattened lists.\n",
    "\n",
    "### Assignment 11: List Manipulation\n",
    "\n",
    "Create a list of the first 10 positive integers. Remove the elements at indices 2, 4, and 6, and insert the element '99' at index 5. Print the modified list.\n",
    "\n",
    "### Assignment 12: List Zipping\n",
    "\n",
    "Create two lists of the same length. Use the `zip` function to combine these lists into a list of tuples and print the result.\n",
    "\n",
    "### Assignment 13: List Reversal\n",
    "\n",
    "Write a function that takes a list and returns a new list with the elements in reverse order. Print the original and reversed lists.\n",
    "\n",
    "### Assignment 14: List Rotation\n",
    "\n",
    "Write a function that rotates a list by n positions. Print the original and rotated lists.\n",
    "\n",
    "### Assignment 15: List Intersection\n",
    "\n",
    "Write a function that takes two lists and returns a new list containing only the elements that are present in both lists. Print the intersected list."
   ]
  },
  {
   "cell_type": "code",
   "execution_count": 1,
   "metadata": {},
   "outputs": [
    {
     "name": "stdout",
     "output_type": "stream",
     "text": [
      "[1, 2, 3, 4, 5, 6, 7, 8, 9, 10, 11, 12, 13, 14, 15, 16, 17, 18, 19, 20]\n"
     ]
    }
   ],
   "source": [
    "# Assignment 1\n",
    "## Create a list of first 20 positive integers and print the list\n",
    "\n",
    "lst=[x for x in range(1,21)]\n",
    "print(lst)\n"
   ]
  },
  {
   "cell_type": "code",
   "execution_count": 4,
   "id": "db9de0bf",
   "metadata": {},
   "outputs": [
    {
     "name": "stdout",
     "output_type": "stream",
     "text": [
      "1\n",
      "11\n",
      "20\n"
     ]
    }
   ],
   "source": [
    "# Assignment 2\n",
    "## Print first, middle, and last element from the list\n",
    "\n",
    "print(lst[0])            #first element\n",
    "print(lst[len(lst)//2])   #middle element\n",
    "print(lst[-1])           #last element\n"
   ]
  },
  {
   "cell_type": "code",
   "execution_count": 9,
   "id": "25db57d4",
   "metadata": {},
   "outputs": [
    {
     "name": "stdout",
     "output_type": "stream",
     "text": [
      "[1, 2, 3, 4, 5, 6]\n",
      "[16, 17, 18, 19, 20]\n",
      "[6, 7, 8, 9, 10, 11, 12, 13, 14, 15, 16]\n"
     ]
    }
   ],
   "source": [
    "# Assignment 3\n",
    "## Print first five elements, last five elements and the elements from index 5 to 15 from the list lst\n",
    "\n",
    "print(lst[:6])\n",
    "print(lst[-5:])\n",
    "print(lst[5:16])"
   ]
  },
  {
   "cell_type": "code",
   "execution_count": 10,
   "id": "5117fc76",
   "metadata": {},
   "outputs": [
    {
     "name": "stdout",
     "output_type": "stream",
     "text": [
      "[1, 4, 9, 16, 25, 36, 49, 64, 81, 100]\n"
     ]
    }
   ],
   "source": [
    "# Assignment 4\n",
    "## Create a new list containing the squares of the first 10 positive integers using the list comprehension and print the list\n",
    "\n",
    "squared_list=[x**2 for x in range(1,11)]\n",
    "print(squared_list)"
   ]
  },
  {
   "cell_type": "code",
   "execution_count": 11,
   "id": "2546b602",
   "metadata": {},
   "outputs": [
    {
     "data": {
      "text/plain": [
       "[1, 2, 3, 4, 5, 6, 7, 8, 9, 10, 11, 12, 13, 14, 15, 16, 17, 18, 19, 20]"
      ]
     },
     "execution_count": 11,
     "metadata": {},
     "output_type": "execute_result"
    }
   ],
   "source": [
    "lst"
   ]
  },
  {
   "cell_type": "code",
   "execution_count": 12,
   "id": "0629984b",
   "metadata": {},
   "outputs": [
    {
     "name": "stdout",
     "output_type": "stream",
     "text": [
      "[2, 4, 6, 8, 10, 12, 14, 16, 18, 20]\n"
     ]
    }
   ],
   "source": [
    "# Assignment 5\n",
    "## Create a new list containing only the even numbers from the list lst using list comprehension and print the list\n",
    "\n",
    "even_numbers=[x for x in lst if x%2==0]\n",
    "print(even_numbers)"
   ]
  },
  {
   "cell_type": "code",
   "execution_count": 13,
   "id": "9bfa9308",
   "metadata": {},
   "outputs": [
    {
     "name": "stdout",
     "output_type": "stream",
     "text": [
      "Sorted numbers : [2, 4, 6, 7, 9, 9, 13, 17, 18, 19, 19, 19, 20, 20, 20]\n",
      "Unique numbers : [2, 4, 6, 7, 9, 13, 17, 18, 19, 20]\n"
     ]
    }
   ],
   "source": [
    "# Assignment 6\n",
    "## Create a list of random numbers and sort it ascending or descending order, remove the duplicates from the list and print the modified list\n",
    "\n",
    "import random\n",
    "random_numbers=[random.randint(1,20) for _ in range(15)]\n",
    "sorted_numbers= sorted(random_numbers)\n",
    "print(f\"Sorted numbers : {sorted_numbers}\")\n",
    "unique_numbers=list(set(sorted_numbers))\n",
    "print(f\"Unique numbers : {unique_numbers}\")"
   ]
  },
  {
   "cell_type": "code",
   "execution_count": 17,
   "id": "cc36d885",
   "metadata": {},
   "outputs": [
    {
     "name": "stdout",
     "output_type": "stream",
     "text": [
      "[[2, 3, 4], [7, 4, 8], [9, 6, 4]]\n",
      "4\n"
     ]
    }
   ],
   "source": [
    "# Assignment 7\n",
    "## Create a nested list of 3x3 matrix and print the list. Access and print the list element at second row and third column\n",
    "\n",
    "matrix=[[2,3,4],\n",
    "        [7,4,8],\n",
    "        [9,6,4]]\n",
    "print(matrix)\n",
    "print(matrix[0][2])"
   ]
  },
  {
   "cell_type": "code",
   "execution_count": 1,
   "id": "3c7676de",
   "metadata": {},
   "outputs": [
    {
     "name": "stdout",
     "output_type": "stream",
     "text": [
      "[{'name': 'vaibhav', 'score': 97}, {'name': 'yash', 'score': 95}, {'name': 'sahil', 'score': 94}]\n"
     ]
    }
   ],
   "source": [
    "# Assignment 8\n",
    "## Create a list of dictionaries where each dictionary represents a student with keys 'name' and 'score'. Sort the list of dictionaries by the 'score' in descending order and print the sorted list.\n",
    "\n",
    "lst=[{\"name\":\"yash\",\"score\":95},{\"name\":\"vaibhav\",\"score\":97},{\"name\":\"sahil\",\"score\":94}]\n",
    "sorted_list= sorted(lst,key=lambda x:x['score'],reverse=True)\n",
    "print(sorted_list)"
   ]
  },
  {
   "cell_type": "code",
   "execution_count": 16,
   "id": "fb209436",
   "metadata": {},
   "outputs": [
    {
     "name": "stdout",
     "output_type": "stream",
     "text": [
      "Original matrix : \n",
      "[1, 2, 3]\n",
      "[4, 5, 6]\n",
      "[7, 8, 9]\n",
      "Transposed matrix: \n",
      "[1, 4, 7]\n",
      "[2, 5, 8]\n",
      "[3, 6, 9]\n"
     ]
    }
   ],
   "source": [
    "### Assignment 9: Matrix Transposition\n",
    "\n",
    "# Write a function that takes a 3x3 matrix (nested list) as input and returns its transpose. Print the original and transposed matrices.\n",
    "\n",
    "def transpose(matrix):\n",
    "    transpose= [[matrix[j][i] for j in range(len(matrix))] for i in range(len(matrix[0]))]\n",
    "    return transpose\n",
    "\n",
    "matrix=[\n",
    "    [1,2,3],\n",
    "    [4,5,6],\n",
    "    [7,8,9]\n",
    "]\n",
    "\n",
    "transposed_matrix=transpose(matrix)\n",
    "\n",
    "print(\"Original matrix : \")\n",
    "for row in matrix:\n",
    "    print(row)\n",
    "\n",
    "print(\"Transposed matrix: \")\n",
    "for row in transposed_matrix:\n",
    "    print(row)"
   ]
  },
  {
   "cell_type": "code",
   "execution_count": 14,
   "id": "894be053",
   "metadata": {},
   "outputs": [
    {
     "name": "stdout",
     "output_type": "stream",
     "text": [
      "Original list: [[1, 2, 3], [4, 5, 6], [7, 8, 9]]\n",
      "Flattened list: [1, 2, 3, 4, 5, 6, 7, 8, 9]\n"
     ]
    }
   ],
   "source": [
    "### Assignment 10: Flattening a Nested List\n",
    "\n",
    "# Write a function that takes a nested list and flattens it into a single list. Print the original and flattened lists.\n",
    "\n",
    "def flatten(nested_list):\n",
    "    flat_list=[item for sublist in nested_list for item in sublist]\n",
    "    return flat_list\n",
    "\n",
    "nested_list=[\n",
    "    [1,2,3],\n",
    "    [4,5,6],\n",
    "    [7,8,9]\n",
    "]\n",
    "\n",
    "flattened_list=flatten(nested_list)\n",
    "print(f\"Original list: {nested_list}\")\n",
    "print(f\"Flattened list: {flattened_list}\")"
   ]
  },
  {
   "cell_type": "code",
   "execution_count": 11,
   "id": "8d5a08aa",
   "metadata": {},
   "outputs": [
    {
     "name": "stdout",
     "output_type": "stream",
     "text": [
      "[1, 2, 4, 6, 8, 99, 9, 10]\n"
     ]
    }
   ],
   "source": [
    "### Assignment 11: List Manipulation\n",
    "\n",
    "# Create a list of the first 10 positive integers. Remove the elements at indices 2, 4, and 6, and insert the element '99' at index 5. Print the modified list.\n",
    "\n",
    "lst=[x for x in range(1,11)]\n",
    "del lst[6]\n",
    "del lst[4]\n",
    "del lst[2]\n",
    "lst.insert(5,99)\n",
    "print(lst)"
   ]
  },
  {
   "cell_type": "code",
   "execution_count": 21,
   "id": "aef1f4ef",
   "metadata": {},
   "outputs": [
    {
     "name": "stdout",
     "output_type": "stream",
     "text": [
      "[(1, 7), (2, 5), (3, 2), (4, 8), (5, 5), (6, 9), (7, 1), (8, 3)]\n"
     ]
    }
   ],
   "source": [
    "### Assignment 12: List Zipping\n",
    "\n",
    "# Create two lists of the same length. Use the `zip` function to combine these lists into a list of tuples and print the result.\n",
    "\n",
    "lst1=[1,2,3,4,5,6,7,8]\n",
    "lst2=[7,5,2,8,5,9,1,3]\n",
    "zipped=list(zip(lst1,lst2))\n",
    "print(zipped)"
   ]
  },
  {
   "cell_type": "code",
   "execution_count": 7,
   "id": "bd5cdc7e",
   "metadata": {},
   "outputs": [
    {
     "data": {
      "text/plain": [
       "[6, 5, 4, 3, 2, 1]"
      ]
     },
     "execution_count": 7,
     "metadata": {},
     "output_type": "execute_result"
    }
   ],
   "source": [
    "### Assignment 13: List Reversal\n",
    "\n",
    "# Write a function that takes a list and returns a new list with the elements in reverse order. Print the original and reversed lists.\n",
    "\n",
    "def reverse_list(lst):\n",
    "    return lst[::-1]\n",
    "reverse_list([1,2,3,4,5,6])"
   ]
  },
  {
   "cell_type": "code",
   "execution_count": 4,
   "id": "b8cb97fb",
   "metadata": {},
   "outputs": [
    {
     "name": "stdout",
     "output_type": "stream",
     "text": [
      "Original list : [1, 2, 3, 4, 5, 6]\n",
      "Rotated list : [4, 5, 6, 1, 2, 3]\n"
     ]
    }
   ],
   "source": [
    "### Assignment 14: List Rotation\n",
    "\n",
    "# Write a function that rotates a list by n positions. Print the original and rotated lists.\n",
    "def rotate_list(lst,n):\n",
    "    return lst[n:] + lst[:n]\n",
    "\n",
    "original_list=[1,2,3,4,5,6]\n",
    "rotated_list=rotate_list(original_list,3)\n",
    "print(f\"Original list : {original_list}\")\n",
    "print(f\"Rotated list : {rotated_list}\")\n"
   ]
  },
  {
   "cell_type": "code",
   "execution_count": 3,
   "id": "eb2e9da9",
   "metadata": {},
   "outputs": [
    {
     "name": "stdout",
     "output_type": "stream",
     "text": [
      "[3, 4, 5]\n"
     ]
    }
   ],
   "source": [
    "### Assignment 15: List Intersection\n",
    "\n",
    "# Write a function that takes two lists and returns a new list containing only the elements that are present in both lists. Print the intersected list.\n",
    "\n",
    "def twoList(lst1,lst2):\n",
    "    return [x for x in lst1 if x in lst2]\n",
    "\n",
    "lst1=[1,2,3,4,5]\n",
    "lst2=[3,4,5,6,7]\n",
    "new_list=twoList(lst1,lst2)\n",
    "print(new_list)\n"
   ]
  },
  {
   "cell_type": "code",
   "execution_count": null,
   "id": "daee748e",
   "metadata": {},
   "outputs": [],
   "source": []
  }
 ],
 "metadata": {
  "kernelspec": {
   "display_name": "Python 3",
   "language": "python",
   "name": "python3"
  },
  "language_info": {
   "codemirror_mode": {
    "name": "ipython",
    "version": 3
   },
   "file_extension": ".py",
   "mimetype": "text/x-python",
   "name": "python",
   "nbconvert_exporter": "python",
   "pygments_lexer": "ipython3",
   "version": "3.12.7"
  }
 },
 "nbformat": 4,
 "nbformat_minor": 5
}
