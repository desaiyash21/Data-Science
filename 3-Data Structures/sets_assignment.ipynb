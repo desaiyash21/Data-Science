{
 "cells": [
  {
   "cell_type": "markdown",
   "metadata": {},
   "source": [
    "# Module 3: Data Structures Assignments\n",
    "## Lesson 3.3: Sets\n",
    "### Assignment 1: Creating and Accessing Sets\n",
    "\n",
    "Create a set with the first 10 positive integers. Print the set.\n",
    "\n",
    "### Assignment 2: Adding and Removing Elements\n",
    "\n",
    "Add the number 11 to the set created in Assignment 1. Then remove the number 1 from the set. Print the modified set.\n",
    "\n",
    "### Assignment 3: Set Operations\n",
    "\n",
    "Create two sets: one with the first 5 positive integers and another with the first 5 even integers. Perform and print the results of union, intersection, difference, and symmetric difference operations on these sets.\n",
    "\n",
    "### Assignment 4: Set Comprehensions\n",
    "\n",
    "Create a new set containing the squares of the first 10 positive integers using a set comprehension. Print the new set.\n",
    "\n",
    "### Assignment 5: Filtering Sets\n",
    "\n",
    "Create a new set containing only the even numbers from the set created in Assignment 1 using a set comprehension. Print the new set.\n",
    "\n",
    "### Assignment 6: Set Methods\n",
    "\n",
    "Create a set with duplicate elements and remove the duplicates using set methods. Print the modified set.\n",
    "\n",
    "### Assignment 7: Subsets and Supersets\n",
    "\n",
    "Create two sets: one with the first 5 positive integers and another with the first 3 positive integers. Check if the second set is a subset of the first set and if the first set is a superset of the second set. Print the results.\n",
    "\n",
    "### Assignment 8: Frozenset\n",
    "\n",
    "Create a frozenset with the first 5 positive integers. Print the frozenset.\n",
    "\n",
    "### Assignment 9: Set and List Conversion\n",
    "\n",
    "Create a set with the first 5 positive integers. Convert it to a list, append the number 6, and convert it back to a set. Print the resulting set.\n",
    "\n",
    "### Assignment 10: Set and Dictionary\n",
    "\n",
    "Create a dictionary with set keys and integer values. Print the dictionary.\n",
    "\n",
    "### Assignment 11: Iterating Over Sets\n",
    "\n",
    "Create a set and iterate over the elements, printing each element.\n",
    "\n",
    "### Assignment 12: Removing Elements from Sets\n",
    "\n",
    "Create a set and remove elements from it until it is empty. Print the set after each removal.\n",
    "\n",
    "### Assignment 13: Set Symmetric Difference Update\n",
    "\n",
    "Create two sets and update the first set with the symmetric difference of the two sets. Print the modified first set.\n",
    "\n",
    "### Assignment 14: Set Membership Testing\n",
    "\n",
    "Create a set and test if certain elements are present in the set. Print the results.\n",
    "\n",
    "### Assignment 15: Set of Tuples\n",
    "\n",
    "Create a set containing tuples, where each tuple contains two elements. Print the set."
   ]
  },
  {
   "cell_type": "code",
   "execution_count": 1,
   "metadata": {},
   "outputs": [
    {
     "name": "stdout",
     "output_type": "stream",
     "text": [
      "{0, 1, 2, 3, 4, 5, 6, 7, 8, 9}\n",
      "<class 'set'>\n"
     ]
    }
   ],
   "source": [
    "### Assignment 1: Creating and Accessing Sets\n",
    "\n",
    "# Create a set with the first 10 positive integers. Print the set.\n",
    "\n",
    "my_set= {i for i in range(10)}\n",
    "print(my_set)\n",
    "print(type(my_set))"
   ]
  },
  {
   "cell_type": "code",
   "execution_count": 2,
   "id": "f8be953f",
   "metadata": {},
   "outputs": [
    {
     "name": "stdout",
     "output_type": "stream",
     "text": [
      "{0, 1, 2, 3, 4, 5, 6, 7, 8, 9, 11}\n",
      "{0, 2, 3, 4, 5, 6, 7, 8, 9, 11}\n"
     ]
    }
   ],
   "source": [
    "### Assignment 2: Adding and Removing Elements\n",
    "\n",
    "# Add the number 11 to the set created in Assignment 1. Then remove the number 1 from the set. Print the modified set.\n",
    "\n",
    "my_set.add(11)\n",
    "print(my_set)\n",
    "my_set.remove(1)\n",
    "print(my_set)"
   ]
  },
  {
   "cell_type": "code",
   "execution_count": 5,
   "id": "fc55dffc",
   "metadata": {},
   "outputs": [
    {
     "name": "stdout",
     "output_type": "stream",
     "text": [
      "{0, 1, 2, 3, 4}\n",
      "{0, 2, 4, 6, 8}\n",
      "{0, 1, 2, 3, 4, 6, 8}\n",
      "{0, 2, 4}\n",
      "{1, 3}\n",
      "{1, 3, 6, 8}\n"
     ]
    }
   ],
   "source": [
    "### Assignment 3: Set Operations\n",
    "\n",
    "# Create two sets: one with the first 5 positive integers and another with the first 5 even integers. Perform and print the results of union, intersection, difference, and symmetric difference operations on these sets.\n",
    "\n",
    "set1= {i for i in range(5)}\n",
    "set2={x for x in range(0,10) if x%2==0}\n",
    "print(set1)\n",
    "print(set2)\n",
    "\n",
    "union_set=set1.union(set2)\n",
    "print(union_set)\n",
    "\n",
    "intersection_set= set1.intersection(set2)\n",
    "print(intersection_set)\n",
    "\n",
    "difference_set= set1.difference(set2)\n",
    "print(difference_set)\n",
    "\n",
    "symmetric_difference_set= set1.symmetric_difference(set2)\n",
    "print(symmetric_difference_set)"
   ]
  },
  {
   "cell_type": "code",
   "execution_count": 6,
   "id": "b3767961",
   "metadata": {},
   "outputs": [
    {
     "name": "stdout",
     "output_type": "stream",
     "text": [
      "{0, 1, 64, 4, 36, 9, 16, 49, 81, 25}\n"
     ]
    }
   ],
   "source": [
    "### Assignment 4: Set Comprehensions\n",
    "\n",
    "# Create a new set containing the squares of the first 10 positive integers using a set comprehension. Print the new set.\n",
    "\n",
    "my_set= {x**2 for x in range(10)}\n",
    "print(my_set)"
   ]
  },
  {
   "cell_type": "code",
   "execution_count": 7,
   "id": "12eadcd0",
   "metadata": {},
   "outputs": [
    {
     "name": "stdout",
     "output_type": "stream",
     "text": [
      "{0, 2, 4, 6, 8}\n"
     ]
    }
   ],
   "source": [
    "### Assignment 5: Filtering Sets\n",
    "\n",
    "# Create a new set containing only the even numbers from the set created in Assignment 1 using a set comprehension. Print the new set.\n",
    "\n",
    "my_set= {i for i in range(10)}\n",
    "new_set={ x for x in my_set if x%2==0}\n",
    "print(new_set)"
   ]
  },
  {
   "cell_type": "code",
   "execution_count": 9,
   "id": "03546e57",
   "metadata": {},
   "outputs": [
    {
     "name": "stdout",
     "output_type": "stream",
     "text": [
      "{1, 2, 3, 4, 5, 6}\n"
     ]
    }
   ],
   "source": [
    "### Assignment 6: Set Methods\n",
    "\n",
    "# Create a set with duplicate elements and remove the duplicates using set methods. Print the modified set.\n",
    "\n",
    "dupl_set={1,2,4,6,3,5,2,4,1}\n",
    "unique_set= set(dupl_set)\n",
    "print(unique_set)"
   ]
  },
  {
   "cell_type": "code",
   "execution_count": 10,
   "id": "219a906c",
   "metadata": {},
   "outputs": [
    {
     "name": "stdout",
     "output_type": "stream",
     "text": [
      "False\n",
      "True\n"
     ]
    }
   ],
   "source": [
    "### Assignment 7: Subsets and Supersets\n",
    "\n",
    "# Create two sets: one with the first 5 positive integers and another with the first 3 positive integers. Check if the second set is a subset of the first set and if the first set is a superset of the second set. Print the results.\n",
    "\n",
    "set1={ i for i in range(5)}\n",
    "set2={x for x in range(3)}\n",
    "\n",
    "print(set1.issubset(set2))\n",
    "print(set1.issuperset(set2))"
   ]
  },
  {
   "cell_type": "code",
   "execution_count": 14,
   "id": "f5246f88",
   "metadata": {},
   "outputs": [
    {
     "name": "stdout",
     "output_type": "stream",
     "text": [
      "frozenset({0, 1, 2, 3, 4})\n"
     ]
    }
   ],
   "source": [
    "### Assignment 8: Frozenset\n",
    "\n",
    "# Create a frozenset with the first 5 positive integers. Print the frozenset.\n",
    "set3= frozenset({x for x in range(5)})\n",
    "print(set3)"
   ]
  },
  {
   "cell_type": "code",
   "execution_count": 15,
   "id": "b8d165d6",
   "metadata": {},
   "outputs": [
    {
     "name": "stdout",
     "output_type": "stream",
     "text": [
      "{0, 1, 2, 3, 4, 6}\n"
     ]
    }
   ],
   "source": [
    "### Assignment 9: Set and List Conversion\n",
    "\n",
    "# Create a set with the first 5 positive integers. Convert it to a list, append the number 6, and convert it back to a set. Print the resulting set.\n",
    "\n",
    "pos_set={ x for x in range(5)}\n",
    "pos_list=list(pos_set)\n",
    "pos_list.append(6)\n",
    "pos_set=set(pos_list)\n",
    "print(pos_set)"
   ]
  },
  {
   "cell_type": "code",
   "execution_count": 3,
   "id": "c99a23fa",
   "metadata": {},
   "outputs": [
    {
     "name": "stdout",
     "output_type": "stream",
     "text": [
      "{frozenset({1, 2}): 3, frozenset({3, 4}): 7, frozenset({5, 6}): 11}\n",
      "<class 'dict'>\n"
     ]
    }
   ],
   "source": [
    "### Assignment 10: Set and Dictionary\n",
    "\n",
    "# Create a dictionary with set keys and integer values. Print the dictionary.\n",
    "set_dict={  frozenset({1, 2}): 3,\n",
    "            frozenset({3, 4}): 7,\n",
    "            frozenset({5, 6}): 11\n",
    "          }\n",
    "print(set_dict)\n",
    "print(type(set_dict))\n"
   ]
  },
  {
   "cell_type": "code",
   "execution_count": 16,
   "id": "f3912be7",
   "metadata": {},
   "outputs": [
    {
     "name": "stdout",
     "output_type": "stream",
     "text": [
      "1\n",
      "2\n",
      "3\n",
      "4\n",
      "5\n",
      "6\n"
     ]
    }
   ],
   "source": [
    "### Assignment 11: Iterating Over Sets\n",
    "\n",
    "# Create a set and iterate over the elements, printing each element.\n",
    "\n",
    "new_set={1,2,3,4,5,6}\n",
    "for i in new_set:\n",
    "    print(i)"
   ]
  },
  {
   "cell_type": "code",
   "execution_count": 20,
   "id": "520e0979",
   "metadata": {},
   "outputs": [
    {
     "name": "stdout",
     "output_type": "stream",
     "text": [
      "{2, 3, 4, 5, 6}\n",
      "{3, 4, 5, 6}\n",
      "{4, 5, 6}\n",
      "{5, 6}\n",
      "{6}\n",
      "set()\n"
     ]
    }
   ],
   "source": [
    "### Assignment 12: Removing Elements from Sets\n",
    "\n",
    "# Create a set and remove elements from it until it is empty. Print the set after each removal.\n",
    "\n",
    "my_set={1,2,3,4,5,6}\n",
    "while my_set:\n",
    "    my_set.pop()\n",
    "    print(my_set)"
   ]
  },
  {
   "cell_type": "code",
   "execution_count": 21,
   "id": "0d708571",
   "metadata": {},
   "outputs": [
    {
     "name": "stdout",
     "output_type": "stream",
     "text": [
      "{1, 2, 3, 6, 7, 8}\n"
     ]
    }
   ],
   "source": [
    "### Assignment 13: Set Symmetric Difference Update\n",
    "\n",
    "# Create two sets and update the first set with the symmetric difference of the two sets. Print the modified first set.\n",
    "\n",
    "set1={1,2,3,4,5}\n",
    "set2={4,5,6,7,8}\n",
    "set1.symmetric_difference_update(set2)\n",
    "print(set1)"
   ]
  },
  {
   "cell_type": "code",
   "execution_count": 22,
   "id": "910a57b8",
   "metadata": {},
   "outputs": [
    {
     "name": "stdout",
     "output_type": "stream",
     "text": [
      "True\n"
     ]
    }
   ],
   "source": [
    "### Assignment 14: Set Membership Testing\n",
    "\n",
    "# Create a set and test if certain elements are present in the set. Print the results.\n",
    "\n",
    "set1={1,2,3,4,5}\n",
    "print(3 in set1)"
   ]
  },
  {
   "cell_type": "code",
   "execution_count": 23,
   "id": "c7a0bd7e",
   "metadata": {},
   "outputs": [
    {
     "name": "stdout",
     "output_type": "stream",
     "text": [
      "{(1, 2), (3, 4), (5, 6)}\n",
      "<class 'set'>\n"
     ]
    }
   ],
   "source": [
    "### Assignment 15: Set of Tuples\n",
    "\n",
    "# Create a set containing tuples, where each tuple contains two elements. Print the set.\n",
    "\n",
    "set_of_tuples= {(1,2),(3,4),(5,6)}\n",
    "print(set_of_tuples)\n",
    "print(type(set_of_tuples))"
   ]
  },
  {
   "cell_type": "code",
   "execution_count": null,
   "id": "9dbdc8b6",
   "metadata": {},
   "outputs": [],
   "source": []
  }
 ],
 "metadata": {
  "kernelspec": {
   "display_name": "venv",
   "language": "python",
   "name": "python3"
  },
  "language_info": {
   "codemirror_mode": {
    "name": "ipython",
    "version": 3
   },
   "file_extension": ".py",
   "mimetype": "text/x-python",
   "name": "python",
   "nbconvert_exporter": "python",
   "pygments_lexer": "ipython3",
   "version": "3.12.7"
  }
 },
 "nbformat": 4,
 "nbformat_minor": 5
}
