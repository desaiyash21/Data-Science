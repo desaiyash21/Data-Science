{
 "cells": [
  {
   "cell_type": "markdown",
   "metadata": {},
   "source": [
    "#### Real World Examples using List in Python\n",
    "### Manage a To do list\n",
    "Create a to do list to keep track of task"
   ]
  },
  {
   "cell_type": "code",
   "execution_count": 5,
   "metadata": {},
   "outputs": [
    {
     "name": "stdout",
     "output_type": "stream",
     "text": [
      "1. Enter 'show' to show to do list\n",
      "2. Enter 'add' to add  a task \n",
      "3. Enter 'remove' to remove a task\n",
      "4. Enter 'quit' to Quit the operations\n",
      "-Buy Groceries\n",
      "-Clean the House\n",
      "-Pay Bills\n",
      "Task added successfully\n",
      "-Buy Groceries\n",
      "-Clean the House\n",
      "-Pay Bills\n",
      "-Go for a run\n",
      "Quiting operation\n"
     ]
    }
   ],
   "source": [
    "to_do_list=[\"Buy Groceries\",\"Clean the House\",\"Pay Bills\"]\n",
    "\n",
    "# To do list operations\n",
    "print(\"1. Enter 'show' to show to do list\")\n",
    "print(\"2. Enter 'add' to add  a task \")\n",
    "print(\"3. Enter 'remove' to remove a task\")\n",
    "print(\"4. Enter 'quit' to Quit the operations\")\n",
    "\n",
    "# User input\n",
    "user= input(\"Choose an operation to perform\")\n",
    "\n",
    "while True:\n",
    "\n",
    "    if user==\"quit\":\n",
    "        print(\"Quiting operation\")\n",
    "        break\n",
    "  \n",
    "    # To print a to do list\n",
    "    if  user.lower()==\"show\":\n",
    "        for task in to_do_list:\n",
    "            print(f\"-{task}\")\n",
    "\n",
    "    # Adding to task        \n",
    "    elif user.lower()==\"add\":\n",
    "        add_task=input(\"Enter a task to add\")\n",
    "        to_do_list.append(add_task)\n",
    "        print(\"Task added successfully\")\n",
    "\n",
    "    # Removing a completed task\n",
    "    elif user.lower()==\"remove\":\n",
    "        remove_task=input(\"Enter a task to remove\")\n",
    "        to_do_list.remove(remove_task)\n",
    "        print(\"Task removed successfully\")\n",
    "\n",
    "    else:\n",
    "        print(\"Wrong operation selected\")\n",
    "        \n",
    "    user= input(\"Choose an operation to perform\")\n"
   ]
  },
  {
   "cell_type": "markdown",
   "metadata": {},
   "source": [
    "#### Organizing Student Grades\n",
    "Create a list to store and calculate average grades of student\n"
   ]
  },
  {
   "cell_type": "code",
   "execution_count": 8,
   "metadata": {},
   "outputs": [
    {
     "name": "stdout",
     "output_type": "stream",
     "text": [
      "The average grade is 78.50\n",
      "The highest grade is 98\n",
      "The lowest grade is 23\n"
     ]
    }
   ],
   "source": [
    "grades=[23,67,98,96,90]\n",
    "\n",
    "# Adding a new grade\n",
    "grades.append(97)\n",
    "\n",
    "# Average grades\n",
    "avg_grade= sum(grades)/len(grades)\n",
    "print(f\"The average grade is {avg_grade:.2f}\")\n",
    "\n",
    "# Highest grade\n",
    "highest= max(grades)\n",
    "print(f\"The highest grade is {highest}\")\n",
    "\n",
    "#Lowest grade\n",
    "lowest=min(grades)\n",
    "print(f\"The lowest grade is {lowest}\")"
   ]
  },
  {
   "cell_type": "markdown",
   "metadata": {},
   "source": [
    "### Collecting user feedback\n",
    "Use a list to collect and analyze user feedback"
   ]
  },
  {
   "cell_type": "code",
   "execution_count": 9,
   "metadata": {},
   "outputs": [
    {
     "name": "stdout",
     "output_type": "stream",
     "text": [
      "Positive feedback count: 2\n",
      "User Feedback:\n",
      "-Great service!\n",
      "-Very Satisfied\n",
      "-Could be better\n",
      "-Excellent experience\n",
      "-Not happy with the service\n"
     ]
    }
   ],
   "source": [
    "feedback=[\"Great service!\",\"Very Satisfied\",\"Could be better\",\"Excellent experience\"]\n",
    "\n",
    "# Adding a comment in feedback\n",
    "feedback.append(\"Not happy with the service\")\n",
    "\n",
    "# Counting specific feedback\n",
    "positive_feedback= sum(1 for comment in feedback if \"great\" in comment.lower() or  \"excellent\" in comment.lower())\n",
    "print(f\"Positive feedback count: {positive_feedback}\")\n",
    "\n",
    "# Printing all feedback\n",
    "print(\"User Feedback:\")\n",
    "for comment in feedback:\n",
    "    print(f\"-{comment}\")"
   ]
  }
 ],
 "metadata": {
  "kernelspec": {
   "display_name": "Python 3",
   "language": "python",
   "name": "python3"
  },
  "language_info": {
   "codemirror_mode": {
    "name": "ipython",
    "version": 3
   },
   "file_extension": ".py",
   "mimetype": "text/x-python",
   "name": "python",
   "nbconvert_exporter": "python",
   "pygments_lexer": "ipython3",
   "version": "3.12.7"
  }
 },
 "nbformat": 4,
 "nbformat_minor": 2
}
